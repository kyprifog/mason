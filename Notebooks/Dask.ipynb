{
 "cells": [
  {
   "cell_type": "code",
   "execution_count": 1,
   "metadata": {},
   "outputs": [],
   "source": [
    "# asynchronous example\n",
    "\n",
    "import dask\n",
    "from dask.distributed import Client\n",
    "import dask.array as da\n",
    "from returns.io import IO, impure\n",
    "from returns.pipeline import flow\n",
    "from returns.io import IO, IOResult, impure_safe"
   ]
  },
  {
   "cell_type": "code",
   "execution_count": 5,
   "metadata": {},
   "outputs": [],
   "source": [
    "client = await Client(asynchronous=True)"
   ]
  },
  {
   "cell_type": "code",
   "execution_count": 10,
   "metadata": {},
   "outputs": [],
   "source": [
    "def stuff():\n",
    "    array = da.ones((1000, 1000, 1000))\n",
    "    return array.mean().compute()\n",
    "    \n",
    "\n",
    "future = client.submit(stuff)"
   ]
  },
  {
   "cell_type": "code",
   "execution_count": 11,
   "metadata": {},
   "outputs": [],
   "source": [
    "result = await client.gather(future)"
   ]
  },
  {
   "cell_type": "code",
   "execution_count": 12,
   "metadata": {},
   "outputs": [
    {
     "name": "stdout",
     "output_type": "stream",
     "text": [
      "1.0\n"
     ]
    }
   ],
   "source": [
    "print(result)"
   ]
  },
  {
   "cell_type": "code",
   "execution_count": 13,
   "metadata": {},
   "outputs": [],
   "source": [
    "import dask\n",
    "from dask.distributed import Client\n",
    "import dask.array as da\n",
    "from returns.io import IO, impure\n",
    "from returns.pipeline import flow\n",
    "from returns.io import IO, IOResult, impure_safe"
   ]
  },
  {
   "cell_type": "code",
   "execution_count": 15,
   "metadata": {},
   "outputs": [
    {
     "name": "stderr",
     "output_type": "stream",
     "text": [
      "/Users/kyle/dev/mason/.direnv/python-3.7.7/lib/python3.7/site-packages/distributed/client.py:1115: VersionMismatchWarning: Mismatched versions found\n",
      "\n",
      "blosc\n",
      "+--------------------------+---------+\n",
      "|                          | version |\n",
      "+--------------------------+---------+\n",
      "| client                   | None    |\n",
      "| scheduler                | 1.9.1   |\n",
      "| tcp://100.96.14.46:41481 | 1.9.1   |\n",
      "| tcp://100.96.14.47:45697 | 1.9.1   |\n",
      "| tcp://100.96.14.50:39989 | 1.9.1   |\n",
      "+--------------------------+---------+\n",
      "\n",
      "lz4\n",
      "+--------------------------+---------+\n",
      "|                          | version |\n",
      "+--------------------------+---------+\n",
      "| client                   | None    |\n",
      "| scheduler                | 3.0.2   |\n",
      "| tcp://100.96.14.46:41481 | 3.0.2   |\n",
      "| tcp://100.96.14.47:45697 | 3.0.2   |\n",
      "| tcp://100.96.14.50:39989 | 3.0.2   |\n",
      "+--------------------------+---------+\n",
      "\n",
      "numpy\n",
      "+--------------------------+---------+\n",
      "|                          | version |\n",
      "+--------------------------+---------+\n",
      "| client                   | 1.18.2  |\n",
      "| scheduler                | 1.18.1  |\n",
      "| tcp://100.96.14.46:41481 | 1.18.1  |\n",
      "| tcp://100.96.14.47:45697 | 1.18.1  |\n",
      "| tcp://100.96.14.50:39989 | 1.18.1  |\n",
      "+--------------------------+---------+\n",
      "\n",
      "python\n",
      "+--------------------------+---------------+\n",
      "|                          | version       |\n",
      "+--------------------------+---------------+\n",
      "| client                   | 3.7.7.final.0 |\n",
      "| scheduler                | 3.7.4.final.0 |\n",
      "| tcp://100.96.14.46:41481 | 3.7.4.final.0 |\n",
      "| tcp://100.96.14.47:45697 | 3.7.4.final.0 |\n",
      "| tcp://100.96.14.50:39989 | 3.7.4.final.0 |\n",
      "+--------------------------+---------------+\n",
      "  warnings.warn(version_module.VersionMismatchWarning(msg[0][\"warning\"]))\n"
     ]
    }
   ],
   "source": [
    "client = Client(\"dask-scheduler:8786\")"
   ]
  },
  {
   "cell_type": "code",
   "execution_count": 16,
   "metadata": {},
   "outputs": [
    {
     "data": {
      "text/plain": [
       "1.0"
      ]
     },
     "execution_count": 16,
     "metadata": {},
     "output_type": "execute_result"
    }
   ],
   "source": [
    "array = da.ones((1000, 1000, 1000))\n",
    "result =  array.mean().compute()\n",
    "result"
   ]
  },
  {
   "cell_type": "code",
   "execution_count": 21,
   "metadata": {},
   "outputs": [],
   "source": [
    "from mason.util.notebook_environment import NotebookEnvironment"
   ]
  },
  {
   "cell_type": "code",
   "execution_count": 23,
   "metadata": {},
   "outputs": [
    {
     "data": {
      "text/html": [
       "<style>.container { width:100% !important; }</style>"
      ],
      "text/plain": [
       "<IPython.core.display.HTML object>"
      ]
     },
     "metadata": {},
     "output_type": "display_data"
    },
    {
     "name": "stdout",
     "output_type": "stream",
     "text": [
      "Current Mason config not set.  Run \"mason config -s\" to set current config.\n",
      "+-----------------+\n",
      "| Configurations  |\n",
      "+-----------------+\n",
      "Config ID    Engine     Client    Configuration\n",
      "-----------  ---------  --------  -----------------------------------------------------------------------------------------------------------\n",
      ".  1         metastore  glue      {'aws_region': 'us-east-1', 'aws_role_arn': 'REDACTED', 'access_key': 'REDACTED', 'secret_key': 'REDACTED'}\n",
      "             scheduler  glue      {'aws_region': 'us-east-1', 'aws_role_arn': 'REDACTED', 'access_key': 'REDACTED', 'secret_key': 'REDACTED'}\n",
      "             storage    s3        {'aws_region': 'us-east-1', 'access_key': 'REDACTED', 'secret_key': 'REDACTED'}\n",
      "             execution  athena    {'aws_region': 'us-east-1', 'access_key': 'REDACTED', 'secret_key': 'REDACTED'}\n",
      ".  2         metastore  s3        {'aws_region': 'us-east-1', 'access_key': 'REDACTED', 'secret_key': 'REDACTED'}\n",
      "             execution  spark     {'runner': {'spark_version': '2.4.5', 'type': 'kubernetes-operator'}}\n",
      ".  3         metastore  athena    {'aws_region': 'us-east-1', 'access_key': 'REDACTED', 'secret_key': 'REDACTED'}\n",
      "             scheduler  local     {}\n",
      "             storage    s3        {'aws_region': 'us-east-1', 'access_key': 'REDACTED', 'secret_key': 'REDACTED'}\n",
      "\n",
      "* = Current Configuration\n",
      "+-------------------------------------------------------------------------------------------------------------------------------+\n",
      "| Available Operator Methods: /Users/kyle/dev/mason/.direnv/python-3.7.7/lib/python3.7/site-packages/mason/examples/operators/  |\n",
      "+-------------------------------------------------------------------------------------------------------------------------------+\n",
      "\n",
      "namespace    command    description                         parameters\n",
      "-----------  ---------  ----------------------------------  ---------------------------------------------------------------------------------------------------------------\n",
      "schedule     delete     Delete schedule                     {'required': ['schedule_name'], 'optional': []}\n",
      "table        delete     Delete metastore tables             {'required': ['table_name', 'database_name'], 'optional': []}\n",
      "table        merge      Merge metastore tables              {'required': ['output_path', 'input_path'], 'optional': ['extract_paths', 'repartition_keys', 'parse_headers']}\n",
      "table        refresh    Refresh metastore tables            {'required': ['database_name', 'table_name'], 'optional': []}\n",
      "table        get        Get metastore table contents        {'required': ['database_name', 'table_name'], 'optional': []}\n",
      "table        list       Get metastore tables                {'required': ['database_name'], 'optional': []}\n",
      "table        infer      Infers schema for metastore tables  {'required': ['database_name', 'storage_path'], 'optional': ['table_name']}\n",
      "table        query      Query metastore tables              {'required': ['query_string', 'database_name'], 'optional': []}\n",
      "job          get        Get Execution Job Status            {'required': ['job_id'], 'optional': []}\n",
      "\n",
      "+-------------------------------------------------------------------------------------------------------------------------------+\n",
      "| Available Workflow Methods: /Users/kyle/dev/mason/.direnv/python-3.7.7/lib/python3.7/site-packages/mason/examples/workflows/  |\n",
      "+-------------------------------------------------------------------------------------------------------------------------------+\n",
      "\n",
      "namespace    command          description\n",
      "-----------  ---------------  ---------------------------------------------------------------------------------------------\n",
      "table        validated_infer  5 step workflow for inferring table and checking if it worked, then cleaning up if it didn't.\n",
      "table        infer            One step workfow for table infer operator\n"
     ]
    }
   ],
   "source": [
    "env = NotebookEnvironment(\"../.env\")"
   ]
  },
  {
   "cell_type": "code",
   "execution_count": 25,
   "metadata": {},
   "outputs": [
    {
     "name": "stdout",
     "output_type": "stream",
     "text": [
      "Set log level to trace\n",
      "2020-06-25 15:47:36.873379: Invalid Operator.  Reason:  Invalid parameters.  Required parameter not specified: table_name, Required parameter not specified: database_name\n"
     ]
    }
   ],
   "source": [
    "run = env.run(\"table\", \"get\", \"\", \"1\")"
   ]
  },
  {
   "cell_type": "code",
   "execution_count": null,
   "metadata": {},
   "outputs": [],
   "source": []
  }
 ],
 "metadata": {
  "kernelspec": {
   "display_name": "Python 3",
   "language": "python",
   "name": "python3"
  },
  "language_info": {
   "codemirror_mode": {
    "name": "ipython",
    "version": 3
   },
   "file_extension": ".py",
   "mimetype": "text/x-python",
   "name": "python",
   "nbconvert_exporter": "python",
   "pygments_lexer": "ipython3",
   "version": "3.8.4"
  }
 },
 "nbformat": 4,
 "nbformat_minor": 2
}
