{
 "cells": [
  {
   "cell_type": "code",
   "execution_count": null,
   "metadata": {},
   "outputs": [],
   "source": [
    "from mason.util.notebook_environment import NotebookEnvironment"
   ]
  },
  {
   "cell_type": "code",
   "execution_count": null,
   "metadata": {},
   "outputs": [],
   "source": [
    "env = NotebookEnvironment(\"../.env\")"
   ]
  },
  {
   "cell_type": "code",
   "execution_count": null,
   "metadata": {},
   "outputs": [],
   "source": [
    "!aws s3 ls spg-mason-demo/part_data_merged/"
   ]
  },
  {
   "cell_type": "code",
   "execution_count": null,
   "metadata": {},
   "outputs": [],
   "source": [
    "!aws s3 ls spg-mason-demo/part_data/"
   ]
  },
  {
   "cell_type": "code",
   "execution_count": null,
   "metadata": {},
   "outputs": [],
   "source": [
    "!aws s3 ls spg-mason-demo/part_data/manufacturer1/"
   ]
  },
  {
   "cell_type": "code",
   "execution_count": null,
   "metadata": {},
   "outputs": [],
   "source": [
    "!aws s3 ls spg-mason-demo/part_data/manufacturer2/"
   ]
  },
  {
   "cell_type": "code",
   "execution_count": null,
   "metadata": {},
   "outputs": [],
   "source": [
    "run = env.run(\"table\", \"get\", parameters=\"database_name:spg-mason-demo,table_name:part_data\", config_id=\"2\")\n",
    "run"
   ]
  },
  {
   "cell_type": "code",
   "execution_count": null,
   "metadata": {},
   "outputs": [],
   "source": [
    "response = run.response\n",
    "response.formatted()"
   ]
  },
  {
   "cell_type": "code",
   "execution_count": null,
   "metadata": {},
   "outputs": [],
   "source": [
    "invalid_tables = run.object\n",
    "invalid_tables.invalid_tables[0].schema_conflict"
   ]
  },
  {
   "cell_type": "code",
   "execution_count": null,
   "metadata": {},
   "outputs": [],
   "source": [
    "response.formatted()"
   ]
  },
  {
   "cell_type": "code",
   "execution_count": null,
   "metadata": {},
   "outputs": [],
   "source": [
    "from mason.clients.response import Response\n",
    "invalid_table.conflicting_table().to_response(Response()).formatted()"
   ]
  },
  {
   "cell_type": "code",
   "execution_count": null,
   "metadata": {},
   "outputs": [],
   "source": [
    "run = env.run(\"table\", \"get\", parameters=\"database_name:spg-mason-demo,table_name:part_data_merged\", config_id=\"2\")"
   ]
  },
  {
   "cell_type": "code",
   "execution_count": null,
   "metadata": {},
   "outputs": [],
   "source": [
    "response = run.response\n",
    "response.formatted()"
   ]
  },
  {
   "cell_type": "code",
   "execution_count": null,
   "metadata": {},
   "outputs": [],
   "source": [
    "table = run.object\n",
    "table"
   ]
  },
  {
   "cell_type": "code",
   "execution_count": null,
   "metadata": {},
   "outputs": [],
   "source": [
    "table.as_df()"
   ]
  },
  {
   "cell_type": "code",
   "execution_count": null,
   "metadata": {},
   "outputs": [],
   "source": [
    "table.schema.columns"
   ]
  },
  {
   "cell_type": "code",
   "execution_count": null,
   "metadata": {},
   "outputs": [],
   "source": [
    "table.schema.columns[0].to_dict()"
   ]
  },
  {
   "cell_type": "code",
   "execution_count": null,
   "metadata": {},
   "outputs": [],
   "source": [
    "run = env.run(\"table\", \"infer\", parameters=\"database_name:crawler_poc,storage_path:spg-mason-demo/part_data\", config_id=\"3\")"
   ]
  },
  {
   "cell_type": "code",
   "execution_count": null,
   "metadata": {},
   "outputs": [],
   "source": [
    "run.response.formatted()"
   ]
  },
  {
   "cell_type": "code",
   "execution_count": null,
   "metadata": {},
   "outputs": [],
   "source": [
    "run = env.run(\"table\", \"infer\", parameters=\"database_name:crawler_poc,storage_path:spg-mason-demo/part_data_merged\", config_id=\"3\")"
   ]
  },
  {
   "cell_type": "code",
   "execution_count": null,
   "metadata": {},
   "outputs": [],
   "source": [
    "run.response.formatted()"
   ]
  },
  {
   "cell_type": "code",
   "execution_count": null,
   "metadata": {},
   "outputs": [],
   "source": [
    "run.object"
   ]
  },
  {
   "cell_type": "code",
   "execution_count": null,
   "metadata": {},
   "outputs": [],
   "source": [
    "run.object.message"
   ]
  },
  {
   "cell_type": "code",
   "execution_count": null,
   "metadata": {},
   "outputs": [],
   "source": [
    "parameters = {}\n",
    "response = env.run_workflow(\"table\", \"validated_infer\", parameters, \"3\")"
   ]
  },
  {
   "cell_type": "code",
   "execution_count": null,
   "metadata": {},
   "outputs": [],
   "source": [
    "parameters = {\n",
    "    \"step_1\": {\"config_id\": \"3\", \"parameters\": {}},\n",
    "    \"step_2\": {\"config_id\": \"3\", \"parameters\": {}},\n",
    "    \"step_3\": {\"config_id\": \"3\", \"parameters\": {}},\n",
    "    \"step_4\": {\"config_id\": \"3\", \"parameters\": {}},\n",
    "    \"step_5\": {\"config_id\": \"3\", \"parameters\": {}}\n",
    "}\n",
    "response = env.run_workflow(\"table\", \"validated_infer\", parameters, \"3\")\n",
    "response.formatted()"
   ]
  },
  {
   "cell_type": "code",
   "execution_count": null,
   "metadata": {},
   "outputs": [],
   "source": [
    "parameters = {\n",
    "    \"step_1\": {\"config_id\": \"3\", \"parameters\": {\"database_name\": \"crawler_poc\", \"storage_path\": \"spg-mason-demo/part_data/\"}},\n",
    "    \"step_2\": {\"config_id\": \"3\", \"parameters\": {\"job_id\": \"any\"}},\n",
    "    \"step_3\": {\"config_id\": \"3\", \"parameters\": {}},\n",
    "    \"step_4\": {\"config_id\": \"3\", \"parameters\": {}},\n",
    "    \"step_5\": {\"config_id\": \"3\", \"parameters\": {}}\n",
    "}\n",
    "response = env.run_workflow(\"table\", \"validated_infer\", parameters, \"3\")\n",
    "response.formatted()"
   ]
  },
  {
   "cell_type": "code",
   "execution_count": null,
   "metadata": {},
   "outputs": [],
   "source": [
    "parameters = {\n",
    "    \"step_1\": {\"config_id\": \"3\", \"parameters\": {\"database_name\": \"crawler_poc\", \"storage_path\": \"spg-mason-demo/part_data/\", \"table_name\": \"test_part_data\"}},\n",
    "    \"step_2\": {\"config_id\": \"1\", \"parameters\": {\"job_id\": \"any\"}},\n",
    "    \"step_3\": {\"config_id\": \"1\", \"parameters\": {\"query_string\": \"SELECT * from test_part_data\", \"database_name\":\"crawler_poc\"}},\n",
    "    \"step_4\": {\"config_id\": \"1\", \"parameters\": {\"job_id\": \"any\"}},\n",
    "    \"step_5\": {\"config_id\": \"1\", \"parameters\": {\"table_name\": \"test_part_data\", \"database_name\": \"crawler_poc\"}}\n",
    "}\n",
    "response = env.run_workflow(\"table\", \"validated_infer\", parameters, \"3\")\n",
    "response.formatted()"
   ]
  },
  {
   "cell_type": "code",
   "execution_count": null,
   "metadata": {},
   "outputs": [],
   "source": [
    "response = env.run_workflow(\"table\", \"validated_infer\", parameters, \"3\", deploy=True)"
   ]
  },
  {
   "cell_type": "code",
   "execution_count": null,
   "metadata": {},
   "outputs": [],
   "source": [
    "response = env.run_workflow(\"table\", \"validated_infer\", parameters, config_id=\"3\", deploy=True, run_now=True)"
   ]
  },
  {
   "cell_type": "code",
   "execution_count": null,
   "metadata": {},
   "outputs": [],
   "source": [
    "response.formatted()"
   ]
  },
  {
   "cell_type": "code",
   "execution_count": null,
   "metadata": {},
   "outputs": [],
   "source": [
    "parameters = {\n",
    "    \"step_1\": {\"config_id\": \"3\", \"parameters\": {\"database_name\": \"crawler_poc\", \"storage_path\": \"spg-mason-demo/part_data_merged/\", \"table_name\": \"part_data_merged\"}},\n",
    "    \"step_2\": {\"config_id\": \"1\", \"parameters\": {\"job_id\": \"any\"}},\n",
    "    \"step_3\": {\"config_id\": \"1\", \"parameters\": {\"query_string\": \"SELECT * from part_data_merged\", \"database_name\":\"crawler_poc\"}},\n",
    "    \"step_4\": {\"config_id\": \"1\", \"parameters\": {\"job_id\": \"any\"}},\n",
    "    \"step_5\": {\"config_id\": \"1\", \"parameters\": {\"table_name\": \"part_data_merged\", \"database_name\": \"crawler_poc\"}}\n",
    "}\n",
    "response = env.run_workflow(\"table\", \"validated_infer\", parameters, \"3\", deploy=True, run_now=True)\n"
   ]
  },
  {
   "cell_type": "code",
   "execution_count": null,
   "metadata": {},
   "outputs": [],
   "source": [
    "response.formatted()"
   ]
  }
 ],
 "metadata": {
  "kernelspec": {
   "display_name": "Python 3",
   "language": "python",
   "name": "python3"
  },
  "language_info": {
   "codemirror_mode": {
    "name": "ipython",
    "version": 3
   },
   "file_extension": ".py",
   "mimetype": "text/x-python",
   "name": "python",
   "nbconvert_exporter": "python",
   "pygments_lexer": "ipython3",
   "version": "3.7.7"
  }
 },
 "nbformat": 4,
 "nbformat_minor": 4
}
